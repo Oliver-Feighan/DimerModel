{
 "cells": [
  {
   "cell_type": "markdown",
   "metadata": {},
   "source": [
    "# H2 dimer"
   ]
  },
  {
   "cell_type": "code",
   "execution_count": 5,
   "metadata": {},
   "outputs": [],
   "source": [
    "import numpy as np"
   ]
  },
  {
   "cell_type": "code",
   "execution_count": 46,
   "metadata": {},
   "outputs": [],
   "source": [
    "def rotation_matrix(normal, angle):\n",
    "    cos = np.cos(angle)\n",
    "    sin = np.sin(angle)\n",
    "    \n",
    "    cross_product_matrix = np.array([\n",
    "                                    [ 0,         -normal[2],  normal[1]],\n",
    "                                    [ normal[2],  0,         -normal[0]],\n",
    "                                    [-normal[1],  normal[0],  0        ]\n",
    "                                   ])\n",
    "    \n",
    "    outer_product = np.outer(normal, normal)\n",
    "    \n",
    "    identity = np.identity(3)\n",
    "    \n",
    "    R = cos * identity + sin * cross_product_matrix + (1-cos) * outer_product\n",
    "    \n",
    "    return R\n",
    "\n",
    "def write_files():\n",
    "    angstrom_to_bohr = 1.88973\n",
    "\n",
    "    origin = np.array([[0., 0., -1.3], [0., 0., 1.3]])\n",
    "\n",
    "    for sep in [5, 10, 15, 20, 25, 30]:\n",
    "        moved  = np.array([[0., 0., -1.4], [0., 0., 1.4]])\n",
    "        moved[:, 0] += sep\n",
    "        \n",
    "        full_scan = open(f\"xyzs/full_scan_sep_{sep}.xyz\", 'w')\n",
    "        \n",
    "        for angle in np.linspace(0, 2*np.pi, 100):\n",
    "            rot_mat = rotation_matrix([1, 0, 0], angle)\n",
    "            moved = [np.dot(rot_mat, x) for x in moved]\n",
    "            \n",
    "            file = open(f\"xyzs/angle_{np.rad2deg(angle)}_sep_{sep}.xyz\", 'w')\n",
    "            \n",
    "            print(\"4\", file = full_scan)\n",
    "            print(\"4\", file = file)\n",
    "            print(\"\",  file = full_scan)\n",
    "            print(\"\",  file = file)\n",
    "            \n",
    "            print(\"C\", np.array2string(origin[0] / angstrom_to_bohr, formatter={'float_kind':lambda x: \"%.5f\" % x})[1:-1], file = full_scan)\n",
    "            print(\"O\", np.array2string(origin[1] / angstrom_to_bohr, formatter={'float_kind':lambda x: \"%.5f\" % x})[1:-1], file = full_scan)\n",
    "            \n",
    "            print(\"C\", np.array2string(origin[0] / angstrom_to_bohr, formatter={'float_kind':lambda x: \"%.5f\" % x})[1:-1], file = file)\n",
    "            print(\"O\", np.array2string(origin[1] / angstrom_to_bohr, formatter={'float_kind':lambda x: \"%.5f\" % x})[1:-1], file = file)\n",
    "\n",
    "            print(\"C\", np.array2string(moved[0] / angstrom_to_bohr, formatter={'float_kind':lambda x: \"%.5f\" % x})[1:-1], file = full_scan)\n",
    "            print(\"O\", np.array2string(moved[1] / angstrom_to_bohr, formatter={'float_kind':lambda x: \"%.5f\" % x})[1:-1], file = full_scan)\n",
    "            \n",
    "            print(\"C\", np.array2string(moved[0] / angstrom_to_bohr, formatter={'float_kind':lambda x: \"%.5f\" % x})[1:-1], file = file)\n",
    "            print(\"O\", np.array2string(moved[1] / angstrom_to_bohr, formatter={'float_kind':lambda x: \"%.5f\" % x})[1:-1], file = file)\n",
    "            \n",
    "            file.close()\n",
    "            \n",
    "        full_scan.close()"
   ]
  },
  {
   "cell_type": "code",
   "execution_count": 47,
   "metadata": {},
   "outputs": [],
   "source": [
    "write_files()"
   ]
  },
  {
   "cell_type": "code",
   "execution_count": 48,
   "metadata": {},
   "outputs": [
    {
     "ename": "ModuleNotFoundError",
     "evalue": "No module named 'qcore'",
     "output_type": "error",
     "traceback": [
      "\u001b[0;31m---------------------------------------------------------------------------\u001b[0m",
      "\u001b[0;31mModuleNotFoundError\u001b[0m                       Traceback (most recent call last)",
      "\u001b[0;32m<ipython-input-48-66f9e65a5831>\u001b[0m in \u001b[0;36m<module>\u001b[0;34m\u001b[0m\n\u001b[0;32m----> 1\u001b[0;31m \u001b[0;32mimport\u001b[0m \u001b[0mqcore\u001b[0m\u001b[0;34m\u001b[0m\u001b[0;34m\u001b[0m\u001b[0m\n\u001b[0m",
      "\u001b[0;31mModuleNotFoundError\u001b[0m: No module named 'qcore'"
     ]
    }
   ],
   "source": [
    "import qcore"
   ]
  },
  {
   "cell_type": "code",
   "execution_count": null,
   "metadata": {},
   "outputs": [],
   "source": []
  }
 ],
 "metadata": {
  "kernelspec": {
   "display_name": "Python 3",
   "language": "python",
   "name": "python3"
  },
  "language_info": {
   "codemirror_mode": {
    "name": "ipython",
    "version": 3
   },
   "file_extension": ".py",
   "mimetype": "text/x-python",
   "name": "python",
   "nbconvert_exporter": "python",
   "pygments_lexer": "ipython3",
   "version": "3.7.4"
  }
 },
 "nbformat": 4,
 "nbformat_minor": 4
}
