{
 "cells": [
  {
   "cell_type": "code",
   "execution_count": 13,
   "id": "a07c3ab3-2ee1-4551-9168-40892785ec07",
   "metadata": {},
   "outputs": [],
   "source": [
    "import numpy as np"
   ]
  },
  {
   "cell_type": "code",
   "execution_count": 14,
   "id": "a0d4f041-0e48-44cb-924c-5d6c149fa1a5",
   "metadata": {},
   "outputs": [],
   "source": [
    "def print_vmd_vec(x):\n",
    "    print(f\"{{ {x[0]:3.3f} {x[1]:3.3f} {x[2]:3.3f}}}\")    \n"
   ]
  },
  {
   "cell_type": "code",
   "execution_count": 15,
   "id": "53314263-4449-44c9-a58b-80c5586b02e0",
   "metadata": {},
   "outputs": [],
   "source": [
    "Mg1 = np.array([0.000000, 0.000000, 0.000000])\n",
    "Mg2 = np.array([13.144900, 1.187740, 1.004990])"
   ]
  },
  {
   "cell_type": "code",
   "execution_count": 21,
   "id": "673a661b-df51-464c-9b48-b2affbe1af6d",
   "metadata": {},
   "outputs": [],
   "source": [
    "Na = [12.962100, 3.158680, 0.861640]\n",
    "Nb = [12.887090, 0.776730, -1.016630]\n",
    "Nc = [13.298490, -0.946070, 1.307180]\n",
    "Nd = [12.525650, 1.176440, 3.128350]"
   ]
  },
  {
   "cell_type": "code",
   "execution_count": 24,
   "id": "13bee89c-f784-4d1e-a022-89f4d4ce20b7",
   "metadata": {},
   "outputs": [
    {
     "name": "stdout",
     "output_type": "stream",
     "text": [
      "{ 0.000 0.000 0.000}\n",
      "{ 13.145 1.188 1.005}\n"
     ]
    }
   ],
   "source": [
    "print_vmd_vec(Mg1)\n",
    "print_vmd_vec(Mg2)"
   ]
  },
  {
   "cell_type": "code",
   "execution_count": 25,
   "id": "cd5a642c-a208-4c45-85c6-ab99ce774dd7",
   "metadata": {},
   "outputs": [
    {
     "name": "stdout",
     "output_type": "stream",
     "text": [
      "{ 12.962 3.159 0.862}\n",
      "{ 13.298 -0.946 1.307}\n"
     ]
    }
   ],
   "source": [
    "print_vmd_vec(Na)\n",
    "print_vmd_vec(Nc)"
   ]
  },
  {
   "cell_type": "code",
   "execution_count": 26,
   "id": "bf9255e6-9201-41e7-baa8-ee07bfd48c54",
   "metadata": {},
   "outputs": [
    {
     "name": "stdout",
     "output_type": "stream",
     "text": [
      "{ 12.887 0.777 -1.017}\n",
      "{ 12.526 1.176 3.128}\n"
     ]
    }
   ],
   "source": [
    "print_vmd_vec(Nb)\n",
    "print_vmd_vec(Nd)"
   ]
  },
  {
   "cell_type": "code",
   "execution_count": 20,
   "id": "ac3cdc10-593e-4568-bef8-6bdb9f35c497",
   "metadata": {},
   "outputs": [],
   "source": [
    "O1 = [13.454950, 5.880170, -2.504960]\n",
    "C1 = [13.301640, -4.530190, 0.383690]\n",
    "O2 = [13.352420, -4.549050, 4.224090]\n",
    "C2 = [12.261920, 6.593800, 1.979830]"
   ]
  },
  {
   "cell_type": "code",
   "execution_count": 23,
   "id": "ae1089dd-eb7e-4e7c-b28b-37f326ad4797",
   "metadata": {},
   "outputs": [
    {
     "name": "stdout",
     "output_type": "stream",
     "text": [
      "{ 13.455 5.880 -2.505}\n",
      "{ 13.302 -4.530 0.384}\n",
      "{ 13.352 -4.549 4.224}\n",
      "{ 12.262 6.594 1.980}\n"
     ]
    }
   ],
   "source": [
    "print_vmd_vec(O1)\n",
    "print_vmd_vec(C1)\n",
    "print_vmd_vec(O2)\n",
    "print_vmd_vec(C2)"
   ]
  },
  {
   "cell_type": "code",
   "execution_count": 16,
   "id": "0ef96848-fe72-4196-8179-84eff503a037",
   "metadata": {},
   "outputs": [
    {
     "name": "stdout",
     "output_type": "stream",
     "text": [
      "{ 13.046 1.179 0.997}\n",
      "{ 13.244 1.197 1.013}\n"
     ]
    }
   ],
   "source": [
    "vec = Mg2 - Mg1\n",
    "norm_vec = vec / np.linalg.norm(vec)\n",
    "\n",
    "midpoint = vec/2\n",
    "\n",
    "cyl_start = Mg2 - 0.1 * norm_vec \n",
    "cyl_end = Mg2 + 0.1 * norm_vec\n",
    "\n",
    "print_vmd_vec(cyl_start)\n",
    "print_vmd_vec(cyl_end)"
   ]
  },
  {
   "cell_type": "code",
   "execution_count": 6,
   "id": "d159fa38-2b53-4e81-bd10-db021afa43fa",
   "metadata": {},
   "outputs": [],
   "source": [
    "perp_vec = np.array([vec[1], -vec[0], 0])\n",
    "norm_perp = perp_vec / np.linalg.norm(perp_vec)\n",
    "\n",
    "circ = np.cross(vec, perp_vec)\n",
    "norm_circ = circ / np.linalg.norm(circ)"
   ]
  },
  {
   "cell_type": "code",
   "execution_count": 19,
   "id": "e4bb7642-6161-4310-accd-ee7e04f5a403",
   "metadata": {},
   "outputs": [
    {
     "name": "stdout",
     "output_type": "stream",
     "text": [
      "{ 13.136 1.287 1.005}\n",
      "{ 13.154 1.088 1.005}\n"
     ]
    }
   ],
   "source": [
    "cyl_start = Mg2 - 0.1 * norm_perp\n",
    "cyl_end = Mg2 + 0.1 * norm_perp\n",
    "\n",
    "print_vmd_vec(cyl_start)\n",
    "print_vmd_vec(cyl_end)"
   ]
  },
  {
   "cell_type": "code",
   "execution_count": 18,
   "id": "bef7b8cc-e6dd-456a-9a32-e51518158343",
   "metadata": {},
   "outputs": [
    {
     "name": "stdout",
     "output_type": "stream",
     "text": [
      "{ 13.137 1.187 1.105}\n",
      "{ 13.152 1.188 0.905}\n"
     ]
    }
   ],
   "source": [
    "cyl_start = Mg2 - 0.1 * norm_circ \n",
    "cyl_end = Mg2 + 0.1 * norm_circ\n",
    "\n",
    "print_vmd_vec(cyl_start)\n",
    "print_vmd_vec(cyl_end)"
   ]
  },
  {
   "cell_type": "code",
   "execution_count": 27,
   "id": "0fcdb5f3-25dc-4a4c-abfc-97ac79c1cb1c",
   "metadata": {},
   "outputs": [
    {
     "name": "stdout",
     "output_type": "stream",
     "text": [
      "{ 6.707 -0.900 0.502}\n",
      "{ 6.797 -1.896 0.502}\n",
      "{ 6.790 -1.395 0.004}\n",
      "{ 6.790 -1.395 0.004}\n",
      "{ 6.715 -1.401 1.001}\n",
      "{ 6.438 2.088 0.502}\n",
      "{ 6.348 3.084 0.502}\n",
      "{ 6.355 2.582 1.001}\n",
      "{ 6.430 2.589 0.004}\n",
      "{ 6.355 2.582 1.001}\n",
      "{ 6.459 0.584 1.998}\n",
      "{ 6.384 0.577 2.995}\n",
      "{ 6.466 0.082 2.497}\n",
      "{ 6.466 0.082 2.497}\n",
      "{ 6.376 1.078 2.497}\n",
      "{ 6.686 0.604 -0.993}\n",
      "{ 6.761 0.611 -1.990}\n",
      "{ 6.679 1.105 -1.492}\n",
      "{ 6.768 0.110 -1.492}\n",
      "{ 6.679 1.105 -1.492}\n"
     ]
    }
   ],
   "source": [
    "\n",
    "print_vmd_vec(midpoint + 1.5 * norm_perp)\n",
    "print_vmd_vec(midpoint + 2.5 * norm_perp)\n",
    "\n",
    "print_vmd_vec(midpoint + 2 * norm_perp + 0.5 * norm_circ)\n",
    "\n",
    "print_vmd_vec(midpoint + 2 * norm_perp + 0.5 * norm_circ)\n",
    "print_vmd_vec(midpoint + 2 * norm_perp - 0.5 * norm_circ)\n",
    "\n",
    "print_vmd_vec(midpoint - 1.5 * norm_perp)\n",
    "print_vmd_vec(midpoint - 2.5 * norm_perp)\n",
    "print_vmd_vec(midpoint - 2 * norm_perp - 0.5 * norm_circ)\n",
    "\n",
    "print_vmd_vec(midpoint - 2 * norm_perp + 0.5 * norm_circ)\n",
    "print_vmd_vec(midpoint - 2 * norm_perp - 0.5 * norm_circ)\n",
    "\n",
    "print_vmd_vec(midpoint - 1.5 * norm_circ)\n",
    "print_vmd_vec(midpoint - 2.5 * norm_circ)\n",
    "print_vmd_vec(midpoint - 2 * norm_circ + 0.5 * norm_perp)\n",
    "\n",
    "print_vmd_vec(midpoint - 2 * norm_circ + 0.5 * norm_perp)\n",
    "print_vmd_vec(midpoint - 2 * norm_circ - 0.5 * norm_perp)\n",
    "\n",
    "print_vmd_vec(midpoint + 1.5 * norm_circ)\n",
    "print_vmd_vec(midpoint + 2.5 * norm_circ)\n",
    "print_vmd_vec(midpoint + 2 * norm_circ - 0.5 * norm_perp)\n",
    "\n",
    "print_vmd_vec(midpoint + 2 * norm_circ + 0.5 * norm_perp)\n",
    "print_vmd_vec(midpoint + 2 * norm_circ - 0.5 * norm_perp)"
   ]
  },
  {
   "cell_type": "code",
   "execution_count": null,
   "id": "aaae0d80-19f8-4ec0-a245-38fa958aa7cc",
   "metadata": {},
   "outputs": [],
   "source": []
  }
 ],
 "metadata": {
  "kernelspec": {
   "display_name": "Python 3 (ipykernel)",
   "language": "python",
   "name": "python3"
  },
  "language_info": {
   "codemirror_mode": {
    "name": "ipython",
    "version": 3
   },
   "file_extension": ".py",
   "mimetype": "text/x-python",
   "name": "python",
   "nbconvert_exporter": "python",
   "pygments_lexer": "ipython3",
   "version": "3.7.12"
  }
 },
 "nbformat": 4,
 "nbformat_minor": 5
}
