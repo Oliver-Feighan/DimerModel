{
 "cells": [
  {
   "cell_type": "markdown",
   "metadata": {},
   "source": [
    "# Scanning separations and orientations"
   ]
  },
  {
   "cell_type": "code",
   "execution_count": 75,
   "metadata": {},
   "outputs": [],
   "source": [
    "import re\n",
    "import numpy as np\n",
    "import matplotlib.pyplot as plt"
   ]
  },
  {
   "cell_type": "code",
   "execution_count": 6,
   "metadata": {},
   "outputs": [],
   "source": [
    "def read_xyz():\n",
    "    angstrom_to_bohr = 1.88973\n",
    "\n",
    "    lines = list(open(\"../monomer_xyzs/trunc_bchla_1_frame_1.xyz\"))\n",
    "    \n",
    "    symbols = [] \n",
    "    coords = []\n",
    "    \n",
    "    lines = lines[2:]\n",
    "\n",
    "    for line in lines:\n",
    "        symbol = re.findall(r'[a-zA-Z]+', line)\n",
    "        coord  = np.array([float(y) * angstrom_to_bohr for y in re.findall(r'-?\\d+.\\d+', line)])\n",
    "            \n",
    "        if len(symbol) == 0 or len(coord) == 0:\n",
    "            continue\n",
    "                \n",
    "        symbols.append(symbol[0])\n",
    "        coords.append(coord)\n",
    "    \n",
    "    return symbols, coords\n",
    "    \n",
    "    \n",
    "symbols, coords = read_xyz()"
   ]
  },
  {
   "cell_type": "code",
   "execution_count": 7,
   "metadata": {},
   "outputs": [],
   "source": [
    "coords = [x - coords[0] for x in coords]"
   ]
  },
  {
   "cell_type": "code",
   "execution_count": 25,
   "metadata": {},
   "outputs": [
    {
     "name": "stdout",
     "output_type": "stream",
     "text": [
      "1.0\n"
     ]
    }
   ],
   "source": [
    "def angle(vec1, vec2):\n",
    "    num = np.dot(vec1, vec2)\n",
    "    dom = np.linalg.norm(vec1) * np.linalg.norm(vec2)\n",
    "    \n",
    "    angle = np.rad2deg(np.arccos(num/dom))\n",
    "    \n",
    "    return angle\n",
    "\n",
    "Na_index = 14\n",
    "Nb_index = 5\n",
    "Nc_index = 31\n",
    "Nd_index = 23\n",
    "\n",
    "Na_Nc = coords[Na_index] - coords[Nc_index]\n",
    "Nb_Nd = coords[Nb_index] - coords[Nd_index]\n",
    "\n",
    "Qy_Qx_angle = angle(Na_Nc, Nb_Nd)\n",
    "\n",
    "normal_to_porphyrin_plane = np.cross(Na_Nc, Nb_Nd)\n",
    "\n",
    "unit_normal = normal_to_porphyrin_plane / np.linalg.norm(normal_to_porphyrin_plane)\n"
   ]
  },
  {
   "cell_type": "markdown",
   "metadata": {},
   "source": [
    "## Scan distances"
   ]
  },
  {
   "cell_type": "code",
   "execution_count": 55,
   "metadata": {},
   "outputs": [],
   "source": [
    "angstrom_to_bohr = 1.88973\n",
    "\n",
    "def write_separation_files():\n",
    "    for sep in np.linspace(15, 100, 17):\n",
    "        dimer_file = open(f\"sep_xyzs/dimer_sep_{int(sep)}.xyz\", 'w')\n",
    "        origin_monomer = open(f\"sep_xyzs/origin.xyz\", 'w')\n",
    "        moved_monomer = open(f\"sep_xyzs/monomer_sep_{int(sep)}.xyz\", 'w')\n",
    "        \n",
    "        moved_coords = [x+unit_normal * sep for x in coords]\n",
    "\n",
    "        print(f\"{79*2}\", file=dimer_file)\n",
    "        print(f\"{79}\", file=origin_monomer)\n",
    "        print(f\"{79}\", file=moved_monomer)\n",
    "        \n",
    "        print(\"\", file=dimer_file)\n",
    "        print(\"\", file=origin_monomer)\n",
    "        print(\"\", file=moved_monomer)\n",
    "\n",
    "        for enum, c in enumerate(coords):\n",
    "            print(symbols[enum], np.array2string(coords[enum] / angstrom_to_bohr)[1:-1], file=dimer_file)\n",
    "            print(symbols[enum], np.array2string(coords[enum] / angstrom_to_bohr)[1:-1], file=origin_monomer)\n",
    "\n",
    "        for enum, c in enumerate(moved_coords):\n",
    "            print(symbols[enum], np.array2string(moved_coords[enum] / angstrom_to_bohr)[1:-1], file=dimer_file)\n",
    "            print(symbols[enum], np.array2string(moved_coords[enum] / angstrom_to_bohr)[1:-1], file=moved_monomer)\n",
    "            \n",
    "            \n",
    "        xyz_file.close()"
   ]
  },
  {
   "cell_type": "markdown",
   "metadata": {},
   "source": [
    "## Scan angles"
   ]
  },
  {
   "cell_type": "code",
   "execution_count": 57,
   "metadata": {},
   "outputs": [],
   "source": [
    "def rotation_matrix(normal, angle):\n",
    "    cos = np.cos(angle)\n",
    "    sin = np.sin(angle)\n",
    "    \n",
    "    cross_product_matrix = np.array([\n",
    "                                    [ 0,         -normal[2],  normal[1]],\n",
    "                                    [ normal[2],  0,         -normal[0]],\n",
    "                                    [-normal[1],  normal[0],  0        ]\n",
    "                                   ])\n",
    "    \n",
    "    outer_product = np.outer(normal, normal)\n",
    "    \n",
    "    identity = np.identity(3)\n",
    "    \n",
    "    R = cos * identity + sin * cross_product_matrix + (1-cos) * outer_product\n",
    "    \n",
    "    return R\n",
    "    \n",
    "for theta in np.linspace(0, 2*np.pi, 100):\n",
    "    xyz_file = open(f\"angle_xyzs/angle_{int(np.rad2deg(theta))}.xyz\", 'w')\n",
    "\n",
    "    rotation = rotation_matrix(unit_normal, theta)\n",
    "\n",
    "    moved_coords = [np.dot(rotation, (x+(unit_normal*15))) for x in coords]\n",
    "    \n",
    "    print(f\"{79*2}\", file=xyz_file)\n",
    "    print(\"\", file=xyz_file)\n",
    "\n",
    "    for enum, c in enumerate(coords):\n",
    "        print(symbols[enum], np.array2string(coords[enum] / angstrom_to_bohr)[1:-1], file=xyz_file)\n",
    "\n",
    "    for enum, c in enumerate(moved_coords):\n",
    "        print(symbols[enum], np.array2string(moved_coords[enum] / angstrom_to_bohr)[1:-1], file=xyz_file)\n",
    "        \n",
    "    xyz_file.close()"
   ]
  },
  {
   "cell_type": "code",
   "execution_count": 78,
   "metadata": {},
   "outputs": [],
   "source": [
    "import os\n",
    "import sys\n",
    "\n",
    "sys.path.insert(0, '..')\n",
    "import read_Bchla_xTB\n",
    "import read_tddft\n",
    "import make_json"
   ]
  },
  {
   "cell_type": "code",
   "execution_count": 110,
   "metadata": {},
   "outputs": [
    {
     "name": "stdout",
     "output_type": "stream",
     "text": [
      "28 28\n"
     ]
    }
   ],
   "source": [
    "angles = []\n",
    "dimer_energies = []\n",
    "#dipole_energies = []\n",
    "\n",
    "#for sep in np.linspace(15, 100, 17):\n",
    "for theta in np.linspace(0, 2*np.pi, 100):\n",
    "    #is_here, energies, tmds = read_Bchla_xTB.read_dimer_Bchla_xTB_file(f\"AngleScans/Bchla_xTB/Bchla_angle_{int(np.rad2deg(theta))}.out\")\n",
    "     \n",
    "    try:\n",
    "        is_here, energies, tmds = read_tddft.read_dimer_TDDFT_file(f\"AngleScans/PBE0/PBE0_angle_{int(np.rad2deg(theta))}.out\")    \n",
    "\n",
    "        #print(sep, is_here)\n",
    "\n",
    "        if not is_here:\n",
    "            continue\n",
    "\n",
    "        for i in energies:\n",
    "            if i > 0.07:\n",
    "                angles.append(np.rad2deg(theta))\n",
    "                dimer_energies.append(i)\n",
    "    except:\n",
    "        continue\n",
    "        \n",
    "print(len(angles), len(dimer_energies))"
   ]
  },
  {
   "cell_type": "code",
   "execution_count": 112,
   "metadata": {},
   "outputs": [
    {
     "data": {
      "text/plain": [
       "<matplotlib.collections.PathCollection at 0x11f5d0f10>"
      ]
     },
     "execution_count": 112,
     "metadata": {},
     "output_type": "execute_result"
    },
    {
     "data": {
      "image/png": "[encoded data removed]",
      "text/plain": [
       "<Figure size 432x288 with 1 Axes>"
      ]
     },
     "metadata": {
      "needs_background": "light"
     },
     "output_type": "display_data"
    }
   ],
   "source": [
    "fig, ax = plt.subplots()\n",
    "\n",
    "ax.scatter(angles, dimer_energies)\n",
    "#ax.set_ylim(0.0955, 0.09625)"
   ]
  },
  {
   "cell_type": "code",
   "execution_count": null,
   "metadata": {},
   "outputs": [],
   "source": []
  }
 ],
 "metadata": {
  "kernelspec": {
   "display_name": "Python 3",
   "language": "python",
   "name": "python3"
  },
  "language_info": {
   "codemirror_mode": {
    "name": "ipython",
    "version": 3
   },
   "file_extension": ".py",
   "mimetype": "text/x-python",
   "name": "python",
   "nbconvert_exporter": "python",
   "pygments_lexer": "ipython3",
   "version": "3.7.4"
  }
 },
 "nbformat": 4,
 "nbformat_minor": 4
}
